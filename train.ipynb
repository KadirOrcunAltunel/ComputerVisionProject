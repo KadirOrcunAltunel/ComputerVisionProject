{
 "cells": [
  {
   "cell_type": "markdown",
   "id": "57d2f92f",
   "metadata": {},
   "source": [
    "# Computer Vision Analysis\n",
    "#### By Ronny Toribio, Kadir O. Altunel, Michael Cook-Stahl\n",
    "#### Based on [Hands on Machine Learning 2nd edition](https://github.com/ageron/handson-ml2/) and [FER2013](https://www.kaggle.com/code/ritikjain00/model-training-fer-13)"
   ]
  },
  {
   "cell_type": "markdown",
   "id": "5d5f3507",
   "metadata": {},
   "source": [
    "### Import modules and declare constants"
   ]
  },
  {
   "cell_type": "code",
   "execution_count": 1,
   "id": "cd614254",
   "metadata": {},
   "outputs": [],
   "source": [
    "%matplotlib inline\n",
    "import os.path\n",
    "import matplotlib.pyplot as plt\n",
    "import numpy as np\n",
    "import pandas as pd\n",
    "import tensorflow as tf\n",
    "from tensorflow.keras.preprocessing.image import ImageDataGenerator\n",
    "from tensorflow.keras.models import Sequential, load_model\n",
    "from tensorflow.keras.utils import plot_model\n",
    "from tensorflow.keras.layers import Conv2D, MaxPooling2D, Flatten, Dropout, Dense, BatchNormalization\n",
    "from tensorflow.keras.regularizers import l2\n",
    "from tensorflow.keras.optimizers import Adam\n",
    "from tensorflow.keras.callbacks import ModelCheckpoint, EarlyStopping, ReduceLROnPlateau\n",
    "\n",
    "BATCH_SIZE = 32\n",
    "INPUT_SHAPE = (48, 48, 1)"
   ]
  },
  {
   "cell_type": "markdown",
   "id": "4c3ede6a",
   "metadata": {},
   "source": [
    "### Load Facial Emotion Recognition dataset\n",
    "#### training, validation, and testing"
   ]
  },
  {
   "cell_type": "code",
   "execution_count": 2,
   "id": "c03cb153",
   "metadata": {},
   "outputs": [
    {
     "name": "stdout",
     "output_type": "stream",
     "text": [
      "Found 25841 images belonging to 7 classes.\n",
      "Found 2868 images belonging to 7 classes.\n",
      "Found 7178 images belonging to 7 classes.\n"
     ]
    }
   ],
   "source": [
    "train_datagen = ImageDataGenerator(rescale=1./255, zoom_range=0.3, horizontal_flip=True, validation_split=0.10)\n",
    "Xy_train = train_datagen.flow_from_directory(os.path.join(\"fer2013\", \"train\"), batch_size=BATCH_SIZE, \n",
    "                                          target_size=(48, 48), shuffle=True, subset=\"training\",\n",
    "                                          color_mode=\"grayscale\", class_mode=\"categorical\")\n",
    "\n",
    "Xy_valid = train_datagen.flow_from_directory(os.path.join(\"fer2013\", \"train\"), batch_size=BATCH_SIZE, \n",
    "                                          target_size=(48, 48), shuffle=True, subset=\"validation\",\n",
    "                                          color_mode=\"grayscale\", class_mode=\"categorical\")\n",
    "\n",
    "test_datagen = ImageDataGenerator(rescale=1./255, validation_split=0.3)\n",
    "Xy_test = test_datagen.flow_from_directory(os.path.join(\"fer2013\", \"test\"), batch_size=BATCH_SIZE,\n",
    "                                          target_size=(48, 48), shuffle=True,\n",
    "                                          color_mode=\"grayscale\", class_mode=\"categorical\")"
   ]
  },
  {
   "cell_type": "markdown",
   "id": "ceb37c6f",
   "metadata": {},
   "source": [
    "### Build CNN model"
   ]
  },
  {
   "cell_type": "code",
   "execution_count": 3,
   "id": "4ca4cdf2",
   "metadata": {},
   "outputs": [],
   "source": [
    "model = Sequential([\n",
    "    # Convolution Block 1\n",
    "    Conv2D(32, kernel_size=(3, 3), padding=\"same\", activation=\"relu\", input_shape=INPUT_SHAPE),\n",
    "    Conv2D(64, kernel_size=(3, 3), padding=\"same\", activation=\"relu\"),\n",
    "    BatchNormalization(),\n",
    "    MaxPooling2D(pool_size=(2, 2), strides=(2, 2), padding=\"valid\"),\n",
    "    Dropout(0.25),\n",
    "    \n",
    "    # Convolution Block 2\n",
    "    Conv2D(128, kernel_size=(3, 3), padding=\"same\", activation=\"relu\", kernel_regularizer=l2(0.01)),\n",
    "    Conv2D(256, kernel_size=(3, 3), padding=\"valid\", activation=\"relu\", kernel_regularizer=l2(0.01)),\n",
    "    BatchNormalization(),\n",
    "    MaxPooling2D(pool_size=(2, 2), padding=\"valid\"),\n",
    "    Dropout(0.25),\n",
    "    \n",
    "    # Classification Block\n",
    "    Flatten(),\n",
    "    Dense(1024, activation=\"relu\"),\n",
    "    Dropout(0.5),\n",
    "    Dense(7, activation=\"softmax\")\n",
    "])"
   ]
  },
  {
   "cell_type": "markdown",
   "id": "0071e55e",
   "metadata": {},
   "source": [
    "### Model properties"
   ]
  },
  {
   "cell_type": "code",
   "execution_count": 4,
   "id": "9568b601",
   "metadata": {
    "scrolled": true
   },
   "outputs": [
    {
     "data": {
      "text/plain": [
       "[<keras.layers.convolutional.Conv2D at 0x7fa196a3f910>,\n",
       " <keras.layers.convolutional.Conv2D at 0x7fa231774130>,\n",
       " <keras.layers.normalization.batch_normalization.BatchNormalization at 0x7fa196a3f730>,\n",
       " <keras.layers.pooling.MaxPooling2D at 0x7fa196a3a100>,\n",
       " <keras.layers.core.dropout.Dropout at 0x7fa196a3ad30>,\n",
       " <keras.layers.convolutional.Conv2D at 0x7fa1967511f0>,\n",
       " <keras.layers.convolutional.Conv2D at 0x7fa196751700>,\n",
       " <keras.layers.normalization.batch_normalization.BatchNormalization at 0x7fa1967516a0>,\n",
       " <keras.layers.pooling.MaxPooling2D at 0x7fa196751c70>,\n",
       " <keras.layers.core.dropout.Dropout at 0x7fa196751ee0>,\n",
       " <keras.layers.core.flatten.Flatten at 0x7fa196760220>,\n",
       " <keras.layers.core.dense.Dense at 0x7fa1967602b0>,\n",
       " <keras.layers.core.dropout.Dropout at 0x7fa196760640>,\n",
       " <keras.layers.core.dense.Dense at 0x7fa196760820>]"
      ]
     },
     "execution_count": 4,
     "metadata": {},
     "output_type": "execute_result"
    }
   ],
   "source": [
    "model.layers"
   ]
  },
  {
   "cell_type": "code",
   "execution_count": 5,
   "id": "8ee7e3e1",
   "metadata": {},
   "outputs": [
    {
     "name": "stdout",
     "output_type": "stream",
     "text": [
      "Model: \"sequential\"\n",
      "_________________________________________________________________\n",
      " Layer (type)                Output Shape              Param #   \n",
      "=================================================================\n",
      " conv2d (Conv2D)             (None, 48, 48, 32)        320       \n",
      "                                                                 \n",
      " conv2d_1 (Conv2D)           (None, 48, 48, 64)        18496     \n",
      "                                                                 \n",
      " batch_normalization (BatchN  (None, 48, 48, 64)       256       \n",
      " ormalization)                                                   \n",
      "                                                                 \n",
      " max_pooling2d (MaxPooling2D  (None, 24, 24, 64)       0         \n",
      " )                                                               \n",
      "                                                                 \n",
      " dropout (Dropout)           (None, 24, 24, 64)        0         \n",
      "                                                                 \n",
      " conv2d_2 (Conv2D)           (None, 24, 24, 128)       73856     \n",
      "                                                                 \n",
      " conv2d_3 (Conv2D)           (None, 22, 22, 256)       295168    \n",
      "                                                                 \n",
      " batch_normalization_1 (Batc  (None, 22, 22, 256)      1024      \n",
      " hNormalization)                                                 \n",
      "                                                                 \n",
      " max_pooling2d_1 (MaxPooling  (None, 11, 11, 256)      0         \n",
      " 2D)                                                             \n",
      "                                                                 \n",
      " dropout_1 (Dropout)         (None, 11, 11, 256)       0         \n",
      "                                                                 \n",
      " flatten (Flatten)           (None, 30976)             0         \n",
      "                                                                 \n",
      " dense (Dense)               (None, 1024)              31720448  \n",
      "                                                                 \n",
      " dropout_2 (Dropout)         (None, 1024)              0         \n",
      "                                                                 \n",
      " dense_1 (Dense)             (None, 7)                 7175      \n",
      "                                                                 \n",
      "=================================================================\n",
      "Total params: 32,116,743\n",
      "Trainable params: 32,116,103\n",
      "Non-trainable params: 640\n",
      "_________________________________________________________________\n"
     ]
    }
   ],
   "source": [
    "model.summary()"
   ]
  },
  {
   "cell_type": "code",
   "execution_count": 6,
   "id": "64fa9be5",
   "metadata": {},
   "outputs": [
    {
     "name": "stdout",
     "output_type": "stream",
     "text": [
      "You must install pydot (`pip install pydot`) and install graphviz (see instructions at https://graphviz.gitlab.io/download/) for plot_model/model_to_dot to work.\n"
     ]
    }
   ],
   "source": [
    "# requires pydot and graphviz modules\n",
    "plot_model(model, \"cnn_model.png\", show_shapes=True)"
   ]
  },
  {
   "cell_type": "markdown",
   "id": "c244bac8",
   "metadata": {},
   "source": [
    "### Compile model"
   ]
  },
  {
   "cell_type": "code",
   "execution_count": 7,
   "id": "1b9329e0",
   "metadata": {},
   "outputs": [],
   "source": [
    "model.compile(loss=\"categorical_crossentropy\", optimizer=Adam(learning_rate=0.0001, decay=1e-6),\n",
    "              metrics=[\"accuracy\"])"
   ]
  },
  {
   "cell_type": "markdown",
   "id": "5c6e30d9",
   "metadata": {},
   "source": [
    "### Checkpoint callback"
   ]
  },
  {
   "cell_type": "code",
   "execution_count": 8,
   "id": "1ec3df9e",
   "metadata": {},
   "outputs": [],
   "source": [
    "checkpoint_cb = ModelCheckpoint(\"cnn_model.h5\", save_best_only=True)"
   ]
  },
  {
   "cell_type": "markdown",
   "id": "5aac76b7",
   "metadata": {},
   "source": [
    "### Early stopping callback"
   ]
  },
  {
   "cell_type": "code",
   "execution_count": 9,
   "id": "0bd447c0",
   "metadata": {},
   "outputs": [],
   "source": [
    "early_stopping_cb = EarlyStopping(patience=10, restore_best_weights=True)"
   ]
  },
  {
   "cell_type": "markdown",
   "id": "6a927508",
   "metadata": {},
   "source": [
    "### Reduce learning rate on plateau callback"
   ]
  },
  {
   "cell_type": "code",
   "execution_count": 10,
   "id": "751dad71",
   "metadata": {},
   "outputs": [],
   "source": [
    "reduce_lr_cb = ReduceLROnPlateau(patience=3, factor=0.1)"
   ]
  },
  {
   "cell_type": "markdown",
   "id": "68b2dfad",
   "metadata": {},
   "source": [
    "### Train the model"
   ]
  },
  {
   "cell_type": "code",
   "execution_count": 11,
   "id": "13b75ae4",
   "metadata": {},
   "outputs": [
    {
     "name": "stdout",
     "output_type": "stream",
     "text": [
      "Epoch 1/60\n",
      "807/807 [==============================] - 195s 240ms/step - loss: 4.1971 - accuracy: 0.2803 - val_loss: 3.6188 - val_accuracy: 0.3662 - lr: 1.0000e-04\n",
      "Epoch 2/60\n",
      "807/807 [==============================] - 195s 241ms/step - loss: 3.2840 - accuracy: 0.3441 - val_loss: 2.8889 - val_accuracy: 0.3873 - lr: 1.0000e-04\n",
      "Epoch 3/60\n",
      "807/807 [==============================] - 195s 242ms/step - loss: 2.6705 - accuracy: 0.3827 - val_loss: 2.3875 - val_accuracy: 0.4161 - lr: 1.0000e-04\n",
      "Epoch 4/60\n",
      "807/807 [==============================] - 194s 241ms/step - loss: 2.2235 - accuracy: 0.4195 - val_loss: 2.0350 - val_accuracy: 0.4459 - lr: 1.0000e-04\n",
      "Epoch 5/60\n",
      "807/807 [==============================] - 194s 241ms/step - loss: 1.9221 - accuracy: 0.4412 - val_loss: 1.7786 - val_accuracy: 0.4642 - lr: 1.0000e-04\n",
      "Epoch 6/60\n",
      "807/807 [==============================] - 193s 239ms/step - loss: 1.7080 - accuracy: 0.4696 - val_loss: 1.6016 - val_accuracy: 0.4860 - lr: 1.0000e-04\n",
      "Epoch 7/60\n",
      "807/807 [==============================] - 193s 239ms/step - loss: 1.5680 - accuracy: 0.4900 - val_loss: 1.4808 - val_accuracy: 0.5077 - lr: 1.0000e-04\n",
      "Epoch 8/60\n",
      "807/807 [==============================] - 193s 239ms/step - loss: 1.4696 - accuracy: 0.5083 - val_loss: 1.3691 - val_accuracy: 0.5463 - lr: 1.0000e-04\n",
      "Epoch 9/60\n",
      "807/807 [==============================] - 192s 237ms/step - loss: 1.3830 - accuracy: 0.5303 - val_loss: 1.3759 - val_accuracy: 0.5225 - lr: 1.0000e-04\n",
      "Epoch 10/60\n",
      "807/807 [==============================] - 193s 239ms/step - loss: 1.3303 - accuracy: 0.5433 - val_loss: 1.2890 - val_accuracy: 0.5607 - lr: 1.0000e-04\n",
      "Epoch 11/60\n",
      "807/807 [==============================] - 192s 238ms/step - loss: 1.2784 - accuracy: 0.5578 - val_loss: 1.2950 - val_accuracy: 0.5516 - lr: 1.0000e-04\n",
      "Epoch 12/60\n",
      "807/807 [==============================] - 194s 240ms/step - loss: 1.2399 - accuracy: 0.5695 - val_loss: 1.2221 - val_accuracy: 0.5632 - lr: 1.0000e-04\n",
      "Epoch 13/60\n",
      "807/807 [==============================] - 192s 238ms/step - loss: 1.1917 - accuracy: 0.5861 - val_loss: 1.2515 - val_accuracy: 0.5660 - lr: 1.0000e-04\n",
      "Epoch 14/60\n",
      "807/807 [==============================] - 193s 240ms/step - loss: 1.1722 - accuracy: 0.5929 - val_loss: 1.2137 - val_accuracy: 0.5751 - lr: 1.0000e-04\n",
      "Epoch 15/60\n",
      "807/807 [==============================] - 193s 239ms/step - loss: 1.1426 - accuracy: 0.6072 - val_loss: 1.1921 - val_accuracy: 0.5920 - lr: 1.0000e-04\n",
      "Epoch 16/60\n",
      "807/807 [==============================] - 192s 237ms/step - loss: 1.1193 - accuracy: 0.6104 - val_loss: 1.2324 - val_accuracy: 0.5653 - lr: 1.0000e-04\n",
      "Epoch 17/60\n",
      "807/807 [==============================] - 193s 240ms/step - loss: 1.0854 - accuracy: 0.6248 - val_loss: 1.1920 - val_accuracy: 0.5811 - lr: 1.0000e-04\n",
      "Epoch 18/60\n",
      "807/807 [==============================] - 193s 240ms/step - loss: 1.0631 - accuracy: 0.6350 - val_loss: 1.1896 - val_accuracy: 0.5787 - lr: 1.0000e-04\n",
      "Epoch 19/60\n",
      "807/807 [==============================] - 192s 238ms/step - loss: 1.0340 - accuracy: 0.6478 - val_loss: 1.2006 - val_accuracy: 0.5758 - lr: 1.0000e-04\n",
      "Epoch 20/60\n",
      "807/807 [==============================] - 194s 240ms/step - loss: 1.0237 - accuracy: 0.6497 - val_loss: 1.1686 - val_accuracy: 0.5878 - lr: 1.0000e-04\n",
      "Epoch 21/60\n",
      "807/807 [==============================] - 196s 243ms/step - loss: 0.9921 - accuracy: 0.6629 - val_loss: 1.1774 - val_accuracy: 0.5899 - lr: 1.0000e-04\n",
      "Epoch 22/60\n",
      "807/807 [==============================] - 194s 241ms/step - loss: 0.9644 - accuracy: 0.6726 - val_loss: 1.1899 - val_accuracy: 0.5952 - lr: 1.0000e-04\n",
      "Epoch 23/60\n",
      "807/807 [==============================] - 192s 238ms/step - loss: 0.9540 - accuracy: 0.6768 - val_loss: 1.1847 - val_accuracy: 0.6011 - lr: 1.0000e-04\n",
      "Epoch 24/60\n",
      "807/807 [==============================] - 194s 240ms/step - loss: 0.8782 - accuracy: 0.7100 - val_loss: 1.1451 - val_accuracy: 0.6071 - lr: 1.0000e-05\n",
      "Epoch 25/60\n",
      "807/807 [==============================] - 192s 238ms/step - loss: 0.8557 - accuracy: 0.7193 - val_loss: 1.1502 - val_accuracy: 0.6113 - lr: 1.0000e-05\n",
      "Epoch 26/60\n",
      "807/807 [==============================] - 194s 240ms/step - loss: 0.8429 - accuracy: 0.7204 - val_loss: 1.1302 - val_accuracy: 0.6239 - lr: 1.0000e-05\n",
      "Epoch 27/60\n",
      "807/807 [==============================] - 192s 238ms/step - loss: 0.8309 - accuracy: 0.7281 - val_loss: 1.1359 - val_accuracy: 0.6194 - lr: 1.0000e-05\n",
      "Epoch 28/60\n",
      "807/807 [==============================] - 194s 240ms/step - loss: 0.8219 - accuracy: 0.7290 - val_loss: 1.1155 - val_accuracy: 0.6190 - lr: 1.0000e-05\n",
      "Epoch 29/60\n",
      "807/807 [==============================] - 192s 238ms/step - loss: 0.8121 - accuracy: 0.7335 - val_loss: 1.1348 - val_accuracy: 0.6176 - lr: 1.0000e-05\n",
      "Epoch 30/60\n",
      "807/807 [==============================] - 192s 238ms/step - loss: 0.8077 - accuracy: 0.7380 - val_loss: 1.1199 - val_accuracy: 0.6250 - lr: 1.0000e-05\n",
      "Epoch 31/60\n",
      "807/807 [==============================] - 192s 238ms/step - loss: 0.7975 - accuracy: 0.7356 - val_loss: 1.1282 - val_accuracy: 0.6173 - lr: 1.0000e-05\n",
      "Epoch 32/60\n",
      "807/807 [==============================] - 192s 238ms/step - loss: 0.7919 - accuracy: 0.7389 - val_loss: 1.1397 - val_accuracy: 0.6271 - lr: 1.0000e-06\n",
      "Epoch 33/60\n",
      "807/807 [==============================] - 192s 238ms/step - loss: 0.7839 - accuracy: 0.7412 - val_loss: 1.1553 - val_accuracy: 0.6081 - lr: 1.0000e-06\n",
      "Epoch 34/60\n",
      "807/807 [==============================] - 192s 238ms/step - loss: 0.7782 - accuracy: 0.7442 - val_loss: 1.1506 - val_accuracy: 0.6096 - lr: 1.0000e-06\n",
      "Epoch 35/60\n",
      "807/807 [==============================] - 192s 238ms/step - loss: 0.7757 - accuracy: 0.7467 - val_loss: 1.1479 - val_accuracy: 0.6194 - lr: 1.0000e-07\n",
      "Epoch 36/60\n",
      "807/807 [==============================] - 192s 238ms/step - loss: 0.7827 - accuracy: 0.7423 - val_loss: 1.1293 - val_accuracy: 0.6190 - lr: 1.0000e-07\n",
      "Epoch 37/60\n",
      "807/807 [==============================] - 193s 239ms/step - loss: 0.7788 - accuracy: 0.7426 - val_loss: 1.1448 - val_accuracy: 0.6254 - lr: 1.0000e-07\n",
      "Epoch 38/60\n",
      "807/807 [==============================] - 193s 239ms/step - loss: 0.7792 - accuracy: 0.7449 - val_loss: 1.1355 - val_accuracy: 0.6222 - lr: 1.0000e-08\n"
     ]
    }
   ],
   "source": [
    "history = model.fit(Xy_train, epochs=60, validation_data=(Xy_valid),\n",
    "                    steps_per_epoch=Xy_train.n // BATCH_SIZE,\n",
    "                    validation_steps=Xy_valid.n // BATCH_SIZE,\n",
    "                    callbacks=[checkpoint_cb, early_stopping_cb, reduce_lr_cb])"
   ]
  },
  {
   "cell_type": "markdown",
   "id": "68bac2f6",
   "metadata": {},
   "source": [
    "### Roll back to the best model"
   ]
  },
  {
   "cell_type": "code",
   "execution_count": 12,
   "id": "30ddf8e2",
   "metadata": {},
   "outputs": [],
   "source": [
    "model = load_model(\"cnn_model.h5\")"
   ]
  },
  {
   "cell_type": "markdown",
   "id": "e76e9317",
   "metadata": {},
   "source": [
    "### Plot training history"
   ]
  },
  {
   "cell_type": "code",
   "execution_count": 17,
   "id": "3e682a14",
   "metadata": {},
   "outputs": [
    {
     "data": {
      "image/png": "[encoded data removed]",
      "text/plain": [
       "<Figure size 576x360 with 1 Axes>"
      ]
     },
     "metadata": {
      "needs_background": "light"
     },
     "output_type": "display_data"
    }
   ],
   "source": [
    "adjusted_epoch = [x - 0.5 for x in history.epoch]\n",
    "fig, ax = plt.subplots(1, 1, figsize=(8, 5))\n",
    "ax.grid(True)\n",
    "ax.plot(history.epoch, history.history[\"loss\"], \"b-\", label=\"loss\")\n",
    "ax.plot(history.epoch, history.history[\"accuracy\"], \"r-\", label=\"accuracy\")\n",
    "ax.plot(adjusted_epoch, history.history[\"val_loss\"], \"c-\", label=\"val_loss\")\n",
    "ax.plot(adjusted_epoch, history.history[\"val_accuracy\"], \"g-\", label=\"val_accuracy\")\n",
    "ax.legend()\n",
    "fig.savefig(\"cnn_model_training.png\")\n",
    "plt.show()"
   ]
  },
  {
   "cell_type": "markdown",
   "id": "2206ba34",
   "metadata": {},
   "source": [
    "### Evaluate model"
   ]
  },
  {
   "cell_type": "code",
   "execution_count": 18,
   "id": "1eeaf6e3",
   "metadata": {},
   "outputs": [
    {
     "name": "stdout",
     "output_type": "stream",
     "text": [
      "225/225 [==============================] - 9s 38ms/step - loss: 1.0927 - accuracy: 0.6443\n"
     ]
    },
    {
     "data": {
      "text/plain": [
       "[1.0927475690841675, 0.6443299055099487]"
      ]
     },
     "execution_count": 18,
     "metadata": {},
     "output_type": "execute_result"
    }
   ],
   "source": [
    "model.evaluate(Xy_test)"
   ]
  },
  {
   "cell_type": "markdown",
   "id": "f0d9ae83",
   "metadata": {},
   "source": [
    "### Save weights"
   ]
  },
  {
   "cell_type": "code",
   "execution_count": 16,
   "id": "ee0ddbb0",
   "metadata": {},
   "outputs": [],
   "source": [
    "model.save_weights(\"cnn_model_weights.ckpt\")"
   ]
  },
  {
   "cell_type": "code",
   "execution_count": null,
   "id": "1603f237",
   "metadata": {},
   "outputs": [],
   "source": []
  },
  {
   "cell_type": "code",
   "execution_count": null,
   "id": "8f175287",
   "metadata": {},
   "outputs": [],
   "source": []
  }
 ],
 "metadata": {
  "kernelspec": {
   "display_name": "Python 3 (ipykernel)",
   "language": "python",
   "name": "python3"
  },
  "language_info": {
   "codemirror_mode": {
    "name": "ipython",
    "version": 3
   },
   "file_extension": ".py",
   "mimetype": "text/x-python",
   "name": "python",
   "nbconvert_exporter": "python",
   "pygments_lexer": "ipython3",
   "version": "3.9.7"
  }
 },
 "nbformat": 4,
 "nbformat_minor": 5
}

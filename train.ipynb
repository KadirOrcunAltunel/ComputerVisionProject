{
 "cells": [
  {
   "cell_type": "markdown",
   "id": "9593aeee",
   "metadata": {},
   "source": [
    "# Computer Vision Analysis\n",
    "#### By Ronny Toribio, Kadir O. Altunel, Michael Cook-Stahl\n",
    "#### Based on [Hands on Machine Learning 2nd edition](https://github.com/ageron/handson-ml2/) and [FER2013](https://www.kaggle.com/code/ritikjain00/model-training-fer-13)"
   ]
  },
  {
   "cell_type": "markdown",
   "id": "563d92c2",
   "metadata": {},
   "source": [
    "### Import modules"
   ]
  },
  {
   "cell_type": "code",
   "execution_count": null,
   "id": "3618ec7c",
   "metadata": {},
   "outputs": [],
   "source": [
    "%matplotlib inline\n",
    "import os.path\n",
    "import numpy as np\n",
    "import pandas as pd\n",
    "from sklearn.model_selection import train_test_split\n",
    "import tensorflow as tf\n",
    "from tensorflow.keras.preprocessing.image import ImageDataGenerator\n",
    "from tensorflow.keras.models import Sequential, load_model\n",
    "from tensorflow.keras.layers import Input, Conv2D, MaxPooling2D, Flatten, Dropout, Dense, BatchNormalization\n",
    "from tensorflow.keras.optimizers import Adam,RMSprop,SGD\n",
    "from tensorflow.keras.callbacks import ModelCheckpoint, EarlyStopping, ReduceLROnPlateau\n",
    "from tensorflow.keras.utils import plot_model"
   ]
  },
  {
   "cell_type": "markdown",
   "id": "3edb2435",
   "metadata": {},
   "source": [
    "### Load Facial Emotion Recognition dataset"
   ]
  },
  {
   "cell_type": "code",
   "execution_count": null,
   "id": "e0795db1",
   "metadata": {},
   "outputs": [],
   "source": [
    "train_datagen = ImageDataGenerator(rescale=1./255, zoom_range=0.3, horizontal_flip=True)\n",
    "train_X, train_y = train_datagen.flow_from_directory(\"archive/train\", batch_size=64,\n",
    "                                          target_size=(48, 48), shuffle=True,\n",
    "                                          color_mode=\"grayscale\", class_mode=\"categorical\")[0]\n",
    "\n",
    "test_datagen = ImageDataGenerator(rescale=1./255)\n",
    "test_X, test_y = test_datagen.flow_from_directory(\"archive/test\", batch_size=64,\n",
    "                                       target_size=(48, 48), shuffle=True,\n",
    "                                       color_mode=\"grayscale\", class_mode=\"categorical\")[0]"
   ]
  },
  {
   "cell_type": "markdown",
   "id": "07cb4a36",
   "metadata": {},
   "source": [
    "### Build CNN model"
   ]
  },
  {
   "cell_type": "code",
   "execution_count": null,
   "id": "68f92c51",
   "metadata": {},
   "outputs": [],
   "source": [
    "model = Sequential([\n",
    "    Conv2D(32, (3, 3), input_shape=input_size, padding=\"same\", activation=\"relu\"),\n",
    "    Conv2D(64, (3, 3), padding=\"same\", activation=\"relu\"),\n",
    "    BatchNormalization()\n",
    "    MaxPool2D((2, 2), strides=(2, 2), padding=\"valid\"),\n",
    "    Dropout(0.25),\n",
    "    Conv2D(128, (3, 3), padding=\"same\", activation=\"relu\", kernel_regularization=regularizers.l2(0.01)),\n",
    "    Conv2D(256, (3, 3), padding=\"same\", activation=\"relu\", kernel_regularization=regularizers.l2(0.01)),\n",
    "    BatchNormalization()\n",
    "    MaxPool2D((2, 2), strides=(2, 2), padding=\"valid\"),\n",
    "    Dropout(0.25),\n",
    "    Flatten(),\n",
    "    Dense(1024, activation=\"relu\"),\n",
    "    Dropout(0.5)\n",
    "    Dense(7, activation=\"softmax\")\n",
    "])"
   ]
  },
  {
   "cell_type": "markdown",
   "id": "ef8a39ae",
   "metadata": {},
   "source": [
    "### Model properties"
   ]
  },
  {
   "cell_type": "code",
   "execution_count": null,
   "id": "3d675279",
   "metadata": {},
   "outputs": [],
   "source": [
    "model.layers"
   ]
  },
  {
   "cell_type": "code",
   "execution_count": null,
   "id": "3146496b",
   "metadata": {},
   "outputs": [],
   "source": [
    "model.summary()"
   ]
  },
  {
   "cell_type": "code",
   "execution_count": null,
   "id": "b6c23b2a",
   "metadata": {},
   "outputs": [],
   "source": [
    "plot_model(model, \"cnn_model.png\", show_shapes=True)"
   ]
  },
  {
   "cell_type": "markdown",
   "id": "05590967",
   "metadata": {},
   "source": [
    "### Compile model"
   ]
  },
  {
   "cell_type": "code",
   "execution_count": null,
   "id": "3e1c6085",
   "metadata": {},
   "outputs": [],
   "source": [
    "model.compile(loss=\"sparse_categorical_crossentropy\", optimizer=\"adam\", metrics=[\"accuracy\"])"
   ]
  },
  {
   "cell_type": "markdown",
   "id": "778bb344",
   "metadata": {},
   "source": [
    "### Model checkpoint callback"
   ]
  },
  {
   "cell_type": "code",
   "execution_count": null,
   "id": "4b31a1a9",
   "metadata": {},
   "outputs": [],
   "source": [
    "checkpoint_cb = ModelCheckpoint(\"cnn_model.h5\", save_best_only=True)"
   ]
  },
  {
   "cell_type": "markdown",
   "id": "5dd3b543",
   "metadata": {},
   "source": [
    "### Train the model"
   ]
  },
  {
   "cell_type": "code",
   "execution_count": null,
   "id": "55d0c95c",
   "metadata": {},
   "outputs": [],
   "source": [
    "history = model.fit(X_train, y_train, epoch=30, validation_data=(X_test, y_test), callbacks=[checkpoint_cb])"
   ]
  },
  {
   "cell_type": "markdown",
   "id": "577e22e9",
   "metadata": {},
   "source": [
    "### Roll back to the best model"
   ]
  },
  {
   "cell_type": "code",
   "execution_count": null,
   "id": "403015d9",
   "metadata": {},
   "outputs": [],
   "source": [
    "model = load_model(\"cnn_model.h5\")"
   ]
  },
  {
   "cell_type": "markdown",
   "id": "d288d0f5",
   "metadata": {},
   "source": [
    "### Plot training history"
   ]
  },
  {
   "cell_type": "code",
   "execution_count": null,
   "id": "74073086",
   "metadata": {},
   "outputs": [],
   "source": [
    "pd.DataFrame(history.history).plot(figsize=(8, 5))\n",
    "plt.grid(True)\n",
    "plt.gca().set_ylim(0, 1)\n",
    "save_fig(\"cnn_model_training.png\")\n",
    "plt.show()"
   ]
  },
  {
   "cell_type": "markdown",
   "id": "b3e49fb3",
   "metadata": {},
   "source": [
    "### Evaluate model"
   ]
  },
  {
   "cell_type": "code",
   "execution_count": null,
   "id": "3f228cd1",
   "metadata": {},
   "outputs": [],
   "source": [
    "model.evaluate(X_test, y_test)"
   ]
  },
  {
   "cell_type": "markdown",
   "id": "2d08f020",
   "metadata": {},
   "source": [
    "### Save weights"
   ]
  },
  {
   "cell_type": "code",
   "execution_count": null,
   "id": "6a603c98",
   "metadata": {},
   "outputs": [],
   "source": [
    "model.save_weights(\"cnn_model_weights.ckpt\")"
   ]
  }
 ],
 "metadata": {
  "kernelspec": {
   "display_name": "Python 3 (ipykernel)",
   "language": "python",
   "name": "python3"
  },
  "language_info": {
   "codemirror_mode": {
    "name": "ipython",
    "version": 3
   },
   "file_extension": ".py",
   "mimetype": "text/x-python",
   "name": "python",
   "nbconvert_exporter": "python",
   "pygments_lexer": "ipython3",
   "version": "3.9.7"
  }
 },
 "nbformat": 4,
 "nbformat_minor": 5
}

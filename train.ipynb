{
 "cells": [
  {
   "cell_type": "markdown",
   "id": "9593aeee",
   "metadata": {},
   "source": [
    "# Computer Vision Analysis\n",
    "#### By Ronny Toribio, Kadir O. Altunel, Michael Cook-Stahl"
   ]
  },
  {
   "cell_type": "markdown",
   "id": "563d92c2",
   "metadata": {},
   "source": [
    "### Import modules"
   ]
  },
  {
   "cell_type": "code",
   "execution_count": null,
   "id": "3618ec7c",
   "metadata": {},
   "outputs": [],
   "source": [
    "%matplotlib inline\n",
    "import numpy as np\n",
    "import pandas as pd\n",
    "from sklearn.model_selection import train_test_split\n",
    "import tensorflow as tf\n",
    "from tensorflow import keras\n",
    "from keras.models import Sequential, load_model\n",
    "from keras.layers import Input, Conv2D, MaxPooling2D, Flatten, Dropout, Dense\n",
    "from keras.callbacks import ModelCheckpoint\n",
    "from keras.utils import image_dataset_from_directory, plot_model"
   ]
  },
  {
   "cell_type": "markdown",
   "id": "3edb2435",
   "metadata": {},
   "source": [
    "### Load Facial Emotion Recognition dataset"
   ]
  },
  {
   "cell_type": "code",
   "execution_count": null,
   "id": "e0795db1",
   "metadata": {},
   "outputs": [],
   "source": [
    "DATASET_PATH = \"dataset\"\n",
    "\n",
    "data = image_dataset_from_directory(DATASET_PATH,\n",
    "                                    image_size=(224, 224),\n",
    "                                    shuffle=True,\n",
    "                                    labels=\"inferred\",\n",
    "                                    label_mode=\"categorical\")\n",
    "\n",
    "# convert dataset \n",
    "\n",
    "(X_train, y_train), (X_valid, y_valid), (X_test, y_test) = data"
   ]
  },
  {
   "cell_type": "markdown",
   "id": "07cb4a36",
   "metadata": {},
   "source": [
    "### Build CNN model"
   ]
  },
  {
   "cell_type": "code",
   "execution_count": null,
   "id": "68f92c51",
   "metadata": {},
   "outputs": [],
   "source": [
    "model = Sequential([\n",
    "    Input(),\n",
    "    Conv2D(64, kernel_size=3, padding=\"same\", activation=\"relu\"),\n",
    "    Conv2D(64, kernel_size=3, padding=\"same\", activation=\"relu\"),\n",
    "    MaxPool2D(kernel_size=2, strides=(2, 2), padding=\"valid\"),\n",
    "    Conv2D(128, kernel_size=3, padding=\"same\", activation=\"relu\"),\n",
    "    Conv2D(128, kernel_size=3, padding=\"same\", activation=\"relu\"),\n",
    "    MaxPool2D(kernel_size=2, strides=(2, 2), padding=\"valid\"),\n",
    "    Conv2D(256, kernel_size=3, padding=\"same\", activation=\"relu\"),\n",
    "    Conv2D(256, kernel_size=3, padding=\"same\", activation=\"relu\"),\n",
    "    Conv2D(256, kernel_size=3, padding=\"same\", activation=\"relu\"),\n",
    "    MaxPool2D(kernel_size=2, strides=(2, 2), padding=\"valid\"),\n",
    "    Conv2D(512, kernel_size=3, padding=\"same\", activation=\"relu\"),\n",
    "    Conv2D(512, kernel_size=3, padding=\"same\", activation=\"relu\"),\n",
    "    Conv2D(512, kernel_size=3, padding=\"same\", activation=\"relu\"),\n",
    "    MaxPool2D(kernel_size=2, strides=(2, 2), padding=\"valid\"),\n",
    "    Conv2D(512, kernel_size=3, padding=\"same\", activation=\"relu\"),\n",
    "    Conv2D(512, kernel_size=3, padding=\"same\", activation=\"relu\"),\n",
    "    Conv2D(512, kernel_size=3, padding=\"same\", activation=\"relu\"),\n",
    "    MaxPool2D(kernel_size=2, strides=(2, 2), padding=\"valid\"),\n",
    "    Flatten(),\n",
    "    Dense(4096, activation=\"relu\"),\n",
    "    Dense(4096, activation=\"relu\"),\n",
    "    Dense(7, activation=\"softmax\")\n",
    "])"
   ]
  },
  {
   "cell_type": "markdown",
   "id": "ef8a39ae",
   "metadata": {},
   "source": [
    "### Model properties"
   ]
  },
  {
   "cell_type": "code",
   "execution_count": null,
   "id": "3d675279",
   "metadata": {},
   "outputs": [],
   "source": [
    "model.layers"
   ]
  },
  {
   "cell_type": "code",
   "execution_count": null,
   "id": "3146496b",
   "metadata": {},
   "outputs": [],
   "source": [
    "model.summary()"
   ]
  },
  {
   "cell_type": "code",
   "execution_count": null,
   "id": "b6c23b2a",
   "metadata": {},
   "outputs": [],
   "source": [
    "plot_model(model, \"cnn_model.png\", show_shapes=True)"
   ]
  },
  {
   "cell_type": "markdown",
   "id": "05590967",
   "metadata": {},
   "source": [
    "### Compile model"
   ]
  },
  {
   "cell_type": "code",
   "execution_count": null,
   "id": "3e1c6085",
   "metadata": {},
   "outputs": [],
   "source": [
    "model.compile(loss=\"sparse_categorical_crossentropy\", optimizer=\"adam\", metrics=[\"accuracy\"])"
   ]
  },
  {
   "cell_type": "markdown",
   "id": "778bb344",
   "metadata": {},
   "source": [
    "### Model checkpoint callback"
   ]
  },
  {
   "cell_type": "code",
   "execution_count": null,
   "id": "4b31a1a9",
   "metadata": {},
   "outputs": [],
   "source": [
    "checkpoint_cb = ModelCheckpoint(\"cnn_model.h5\", save_best_only=True)"
   ]
  },
  {
   "cell_type": "markdown",
   "id": "5dd3b543",
   "metadata": {},
   "source": [
    "### Train the model"
   ]
  },
  {
   "cell_type": "code",
   "execution_count": null,
   "id": "55d0c95c",
   "metadata": {},
   "outputs": [],
   "source": [
    "history = model.fit(X_train, y_train, epoch=30, validation_data=(X_valid, y_valid), callbacks=[checkpoint_cb])"
   ]
  },
  {
   "cell_type": "markdown",
   "id": "577e22e9",
   "metadata": {},
   "source": [
    "### Roll back to the best model"
   ]
  },
  {
   "cell_type": "code",
   "execution_count": null,
   "id": "403015d9",
   "metadata": {},
   "outputs": [],
   "source": [
    "model = load_model(\"cnn_model.h5\")"
   ]
  },
  {
   "cell_type": "markdown",
   "id": "d288d0f5",
   "metadata": {},
   "source": [
    "### Plot training history"
   ]
  },
  {
   "cell_type": "code",
   "execution_count": null,
   "id": "74073086",
   "metadata": {},
   "outputs": [],
   "source": [
    "pd.DataFrame(history.history).plot(figsize=(8, 5))\n",
    "plt.grid(True)\n",
    "plt.gca().set_ylim(0, 1)\n",
    "save_fig(\"cnn_model_training.png\")\n",
    "plt.show()"
   ]
  },
  {
   "cell_type": "markdown",
   "id": "b3e49fb3",
   "metadata": {},
   "source": [
    "### Evaluate model"
   ]
  },
  {
   "cell_type": "code",
   "execution_count": null,
   "id": "3f228cd1",
   "metadata": {},
   "outputs": [],
   "source": [
    "model.evaluate(X_test, y_test)"
   ]
  },
  {
   "cell_type": "markdown",
   "id": "2d08f020",
   "metadata": {},
   "source": [
    "### Save weights"
   ]
  },
  {
   "cell_type": "code",
   "execution_count": null,
   "id": "6a603c98",
   "metadata": {},
   "outputs": [],
   "source": [
    "model.save_weights(\"cnn_model_weights.ckpt\")"
   ]
  }
 ],
 "metadata": {
  "kernelspec": {
   "display_name": "Python 3 (ipykernel)",
   "language": "python",
   "name": "python3"
  },
  "language_info": {
   "codemirror_mode": {
    "name": "ipython",
    "version": 3
   },
   "file_extension": ".py",
   "mimetype": "text/x-python",
   "name": "python",
   "nbconvert_exporter": "python",
   "pygments_lexer": "ipython3",
   "version": "3.9.7"
  }
 },
 "nbformat": 4,
 "nbformat_minor": 5
}

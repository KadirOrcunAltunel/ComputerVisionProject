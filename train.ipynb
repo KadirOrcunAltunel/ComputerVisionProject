{
 "cells": [
  {
   "cell_type": "markdown",
   "id": "9593aeee",
   "metadata": {},
   "source": [
    "# Computer Vision Analysis\n",
    "#### By Ronny Toribio, Kadir O. Altunel, Michael Cook-Stahl\n",
    "#### Based on [Hands on Machine Learning 2nd edition](https://github.com/ageron/handson-ml2/) and [FER2013](https://www.kaggle.com/code/ritikjain00/model-training-fer-13)"
   ]
  },
  {
   "cell_type": "markdown",
   "id": "563d92c2",
   "metadata": {},
   "source": [
    "### Import modules and declare constants"
   ]
  },
  {
   "cell_type": "code",
   "execution_count": null,
   "id": "3618ec7c",
   "metadata": {},
   "outputs": [],
   "source": [
    "%matplotlib inline\n",
    "import os.path\n",
    "import matplotlib.pyplot as plt\n",
    "import numpy as np\n",
    "import pandas as pd\n",
    "import tensorflow as tf\n",
    "from tensorflow.keras.preprocessing.image import ImageDataGenerator\n",
    "from tensorflow.keras.models import Sequential, load_model\n",
    "from tensorflow.keras.utils import plot_model\n",
    "from tensorflow.keras.layers import Conv2D, MaxPooling2D, Flatten, Dropout, Dense, BatchNormalization\n",
    "from tensorflow.keras.regularizers import l2\n",
    "from tensorflow.keras.optimizers import Adam\n",
    "from tensorflow.keras.callbacks import ModelCheckpoint, EarlyStopping, ReduceLROnPlateau\n",
    "\n",
    "BATCH_SIZE = 32\n",
    "INPUT_SHAPE = (48, 48, 1)"
   ]
  },
  {
   "cell_type": "markdown",
   "id": "3edb2435",
   "metadata": {},
   "source": [
    "### Load Facial Emotion Recognition dataset\n",
    "#### training, validation, and testing"
   ]
  },
  {
   "cell_type": "code",
   "execution_count": null,
   "id": "e0795db1",
   "metadata": {},
   "outputs": [],
   "source": [
    "train_datagen = ImageDataGenerator(rescale=1./255, zoom_range=0.3, horizontal_flip=True, validation_split=0.10)\n",
    "Xy_train = train_datagen.flow_from_directory(os.path.join(\"fer2013\", \"train\"), batch_size=BATCH_SIZE, \n",
    "                                          target_size=(48, 48), shuffle=True, subset=\"training\",\n",
    "                                          color_mode=\"grayscale\", class_mode=\"categorical\")\n",
    "\n",
    "Xy_valid = train_datagen.flow_from_directory(os.path.join(\"fer2013\", \"train\"), batch_size=BATCH_SIZE, \n",
    "                                          target_size=(48, 48), shuffle=True, subset=\"validation\",\n",
    "                                          color_mode=\"grayscale\", class_mode=\"categorical\")\n",
    "\n",
    "test_datagen = ImageDataGenerator(rescale=1./255, validation_split=0.3)\n",
    "Xy_test = test_datagen.flow_from_directory(os.path.join(\"fer2013\", \"test\"), batch_size=BATCH_SIZE,\n",
    "                                          target_size=(48, 48), shuffle=True,\n",
    "                                          color_mode=\"grayscale\", class_mode=\"categorical\")"
   ]
  },
  {
   "cell_type": "markdown",
   "id": "07cb4a36",
   "metadata": {},
   "source": [
    "### Build CNN model"
   ]
  },
  {
   "cell_type": "code",
   "execution_count": null,
   "id": "68f92c51",
   "metadata": {},
   "outputs": [],
   "source": [
    "model = Sequential([\n",
    "    # Convolution Block 1\n",
    "    Conv2D(32, kernel_size=(3, 3), padding=\"same\", activation=\"relu\", input_shape=INPUT_SHAPE),\n",
    "    Conv2D(64, kernel_size=(3, 3), padding=\"same\", activation=\"relu\"),\n",
    "    BatchNormalization(),\n",
    "    MaxPooling2D(pool_size=(2, 2), strides=(2, 2), padding=\"valid\"),\n",
    "    Dropout(0.25),\n",
    "    \n",
    "    # Convolution Block 2\n",
    "    Conv2D(128, kernel_size=(3, 3), padding=\"same\", activation=\"relu\", kernel_regularizer=l2(0.01)),\n",
    "    Conv2D(256, kernel_size=(3, 3), padding=\"valid\", activation=\"relu\", kernel_regularizer=l2(0.01)),\n",
    "    BatchNormalization(),\n",
    "    MaxPooling2D(pool_size=(2, 2), padding=\"valid\"),\n",
    "    Dropout(0.25),\n",
    "    \n",
    "    # Classification Block\n",
    "    Flatten(),\n",
    "    Dense(1024, activation=\"relu\"),\n",
    "    Dropout(0.5),\n",
    "    Dense(7, activation=\"softmax\")\n",
    "])"
   ]
  },
  {
   "cell_type": "markdown",
   "id": "ef8a39ae",
   "metadata": {},
   "source": [
    "### Model properties"
   ]
  },
  {
   "cell_type": "code",
   "execution_count": null,
   "id": "3d675279",
   "metadata": {},
   "outputs": [],
   "source": [
    "model.layers"
   ]
  },
  {
   "cell_type": "code",
   "execution_count": null,
   "id": "3146496b",
   "metadata": {},
   "outputs": [],
   "source": [
    "model.summary()"
   ]
  },
  {
   "cell_type": "code",
   "execution_count": null,
   "id": "b6c23b2a",
   "metadata": {},
   "outputs": [],
   "source": [
    "# requires pydot and graphviz modules\n",
    "plot_model(model, \"cnn_model.png\", show_shapes=True)"
   ]
  },
  {
   "cell_type": "markdown",
   "id": "05590967",
   "metadata": {},
   "source": [
    "### Compile model"
   ]
  },
  {
   "cell_type": "code",
   "execution_count": null,
   "id": "3e1c6085",
   "metadata": {},
   "outputs": [],
   "source": [
    "model.compile(loss=\"sparse_categorical_crossentropy\", optimizer=Adam(learning_rate=0.0001, decay=1e-6),\n",
    "              metrics=[\"accuracy\"])"
   ]
  },
  {
   "cell_type": "markdown",
   "id": "778bb344",
   "metadata": {},
   "source": [
    "### Checkpoint callback"
   ]
  },
  {
   "cell_type": "code",
   "execution_count": null,
   "id": "4b31a1a9",
   "metadata": {},
   "outputs": [],
   "source": [
    "checkpoint_cb = ModelCheckpoint(\"cnn_model.h5\", save_best_only=True)"
   ]
  },
  {
   "cell_type": "markdown",
   "id": "be82daad",
   "metadata": {},
   "source": [
    "### Early stopping callback"
   ]
  },
  {
   "cell_type": "code",
   "execution_count": null,
   "id": "dcb76a00",
   "metadata": {},
   "outputs": [],
   "source": [
    "early_stopping_cb = EarlyStopping(patience=10, restore_best_weights=True)"
   ]
  },
  {
   "cell_type": "markdown",
   "id": "08e7e6f2",
   "metadata": {},
   "source": [
    "### Reduce learning rate on plateau callback"
   ]
  },
  {
   "cell_type": "code",
   "execution_count": null,
   "id": "a1c1a2a6",
   "metadata": {},
   "outputs": [],
   "source": [
    "reduce_lr_cb = ReduceLROnPlateau(patience=3, factor=0.1)"
   ]
  },
  {
   "cell_type": "markdown",
   "id": "5dd3b543",
   "metadata": {},
   "source": [
    "### Train the model"
   ]
  },
  {
   "cell_type": "code",
   "execution_count": null,
   "id": "55d0c95c",
   "metadata": {},
   "outputs": [],
   "source": [
    "history = model.fit(Xy_train, epochs=60, validation_data=(Xy_valid),\n",
    "                    steps_per_epoch=Xy_train.n // BATCH_SIZE,\n",
    "                    validation_steps=Xy_valid.n // BATCH_SIZE,\n",
    "                    callbacks=[checkpoint_cb, early_stopping_cb, reduce_lr_cb])"
   ]
  },
  {
   "cell_type": "markdown",
   "id": "577e22e9",
   "metadata": {},
   "source": [
    "### Roll back to the best model"
   ]
  },
  {
   "cell_type": "code",
   "execution_count": null,
   "id": "403015d9",
   "metadata": {},
   "outputs": [],
   "source": [
    "model = load_model(\"cnn_model.h5\")"
   ]
  },
  {
   "cell_type": "markdown",
   "id": "d288d0f5",
   "metadata": {},
   "source": [
    "### Plot training history"
   ]
  },
  {
   "cell_type": "code",
   "execution_count": null,
   "id": "74073086",
   "metadata": {},
   "outputs": [],
   "source": [
    "adjusted_epoch = [x - 0.5 for x in history.epoch]\n",
    "fig, ax = plt.subplots(1, 1, figsize=(8, 5))\n",
    "ax.grid(True)\n",
    "ax.ylin(0, 1)\n",
    "ax.plot(history.epoch, history.history[\"loss\"], \"b-\", label=\"loss\")\n",
    "ax.plot(history.epoch, history.history[\"accuracy\"], \"r-\", label=\"accuracy\")\n",
    "ax.plot(adjusted_epoch, history.history[\"val_loss\"], \"c-\", label=\"val_loss\")\n",
    "ax.plot(adjusted_epoch, history.history[\"val_accuracy\"], \"o-\", label=\"val_accuracy\")\n",
    "ax.legend()\n",
    "fig.savefig(\"cnn_model_training.png\")\n",
    "plt.show()"
   ]
  },
  {
   "cell_type": "markdown",
   "id": "b3e49fb3",
   "metadata": {},
   "source": [
    "### Evaluate model"
   ]
  },
  {
   "cell_type": "code",
   "execution_count": null,
   "id": "3f228cd1",
   "metadata": {},
   "outputs": [],
   "source": [
    "model.evaluate(Xy_test)"
   ]
  },
  {
   "cell_type": "markdown",
   "id": "2d08f020",
   "metadata": {},
   "source": [
    "### Save weights"
   ]
  },
  {
   "cell_type": "code",
   "execution_count": null,
   "id": "6a603c98",
   "metadata": {},
   "outputs": [],
   "source": [
    "model.save_weights(\"cnn_model_weights.ckpt\")"
   ]
  }
 ],
 "metadata": {
  "kernelspec": {
   "display_name": "Python 3 (ipykernel)",
   "language": "python",
   "name": "python3"
  },
  "language_info": {
   "codemirror_mode": {
    "name": "ipython",
    "version": 3
   },
   "file_extension": ".py",
   "mimetype": "text/x-python",
   "name": "python",
   "nbconvert_exporter": "python",
   "pygments_lexer": "ipython3",
   "version": "3.9.7"
  }
 },
 "nbformat": 4,
 "nbformat_minor": 5
}
